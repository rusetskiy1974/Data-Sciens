import numpy as np


# Створіть вектор розміром 4, заповніть його випадковими цілими числами в діапазоні від 1 до 50 та знайдіть вектор з квадратними коренями цих чисел.


vector = np.random.randint(1, 51, size = 4)


print(vector)


result = np.sqrt(vector)


print('------result--------\n', result)
