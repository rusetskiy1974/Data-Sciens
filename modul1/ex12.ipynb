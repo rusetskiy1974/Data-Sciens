import numpy as np


# Створіть дві матриці розміром 2x2, заповніть їх випадковими цілими числами в діапазоні від 1 до 10 та виконайте їхнє поелементне множення.


matrix1 = np.random.randint(1, 11, size = (2,2))
matrix2 = np.random.randint(1, 11, size = (2,2))


print(matrix1, '\n')
print(matrix2)


result = (matrix1 * matrix2)


print('--------result---------\n\n', result)
