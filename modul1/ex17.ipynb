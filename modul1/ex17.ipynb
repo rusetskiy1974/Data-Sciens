import numpy as np


# Створіть матрицю розміром 3x4 з довільними цілими числами і створінь матрицю з квадратами цих чисел.


matrix = np.random.randint(1, 11, size=(3, 4))


print(matrix)


result = np.square(matrix)


print('----result------\n', result)
