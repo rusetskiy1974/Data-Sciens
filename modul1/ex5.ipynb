import numpy as np


# Створіть два одновимірних масиви розміром 5, заповніть їх випадковими цілими числами в діапазоні від 1 до 10 та виконайте на них поелементні операції додавання, віднімання та множення.


a = np.random.randint(1, 11, size=5)
b = np.random.randint(1, 11, size=5)


print(a)
print(b)


sum_result = a + b
diff_result = a - b
multiple_result = a * b


print('sum:', sum_result)
print('diff:', diff_result)
print('multiple:', multiple_result)



