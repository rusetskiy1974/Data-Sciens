import numpy as np


# Створіть матрицю розміром 3x3, заповніть її випадковими цілими числами в діапазоні від 1 до 10 та знайдіть її обернену матрицю.


a = np.random.randint(1, 11, size = (3, 3))


print(a)


a_inv = np.linalg.inv(a)
print("\n Обернена матриця")
print(a_inv)



