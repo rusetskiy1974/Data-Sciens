import numpy as np


# Створіть матрицю розміром 2x3 та вектор розміром 3, заповніть їх випадковими дійсними числами в діапазоні від 0 до 1 та перемножте матрицю на вектор.


matrix = np.random.rand(2,3)
vector = np.random.rand(3)


print(matrix, '\n')
print(vector)


result = np.dot(matrix, vector)


print(result)
