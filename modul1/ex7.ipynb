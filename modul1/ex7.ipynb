import numpy as np
# Створіть дві матриці розміром 2x2 та 2x3, заповніть їх випадковими цілими числами в діапазоні від 1 до 10 та перемножте їх між собою.


a = np.random.randint(1, 11, size=(2, 2))
b = np.random.randint(1, 11, size=(2, 3))


print(a)
print(b)


multiple = np.dot(a, b)


print(multiple)
