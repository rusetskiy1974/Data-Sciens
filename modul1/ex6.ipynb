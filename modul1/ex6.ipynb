import numpy as np


# Створіть два вектори розміром 7, заповніть довільними числами та знайдіть їх скалярний добуток.


vector1 = np.array([1.2, 3.4, 5.6, 7.8, 9.0, 2.1, 4.3])
vector2 = np.array([6.7, 5.4, 3.2, 1.0, 8.9, 7.6, 2.3])


print(vector1)
print(vector2)


dot_product = np.dot(vector1, vector2)


print(dot_product)



