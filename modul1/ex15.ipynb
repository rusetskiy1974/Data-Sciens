import numpy as np


# Створіть дві матриці розміром 4x4, заповніть їх випадковими цілими числами в діапазоні від 1 до 10 та знайдіть їхню різницю.


matrix1 = np.random.randint(1, 11, size = (4, 4))
matrix2 = np.random.randint(1, 11, size = (4 ,4))


print(matrix1, '\n\n')
print(matrix2)


diff_matrix = matrix1 - matrix2


print('----difference matrix----\n')
print(diff_matrix)
