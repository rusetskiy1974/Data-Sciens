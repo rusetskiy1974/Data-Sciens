import numpy as np


# Створіть матрицю розміром 5x5, заповніть її випадковими цілими числами в діапазоні від 1 до 100 та знайдіть суму елементів матриці.


matrix = np.random.randint(1, 101, size = (5, 5))


print(matrix)


result = matrix.sum()


print('sum=', result)
