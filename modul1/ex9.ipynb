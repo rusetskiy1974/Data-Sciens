import numpy as np


# Створіть матрицю розміром 4x4, заповніть її випадковими дійсними числами в діапазоні від 0 до 1 та транспонуйте її.


matrix = np.random.random((4,4))


print(matrix)


matrix_T = matrix.T


print('Транспонована матриця')
print(matrix_T)
