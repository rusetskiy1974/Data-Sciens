import numpy as np


# Створіть матрицю розміром 3x4 та вектор розміром 4, заповніть їх випадковими цілими числами в діапазоні від 1 до 10 та перемножте матрицю на вектор.


matrix = np.random.randint(1, 11, size = (3, 4))
vector = np.random.randint(1, 11, size = 4)


print(matrix)
print('\n', vector)


result = np.dot(matrix, vector)


print(result)
